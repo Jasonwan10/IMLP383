{
 "cells": [
  {
   "cell_type": "code",
   "execution_count": 13,
   "metadata": {},
   "outputs": [
    {
     "name": "stdout",
     "output_type": "stream",
     "text": [
      "['sepal length (cm)', 'sepal width (cm)', 'petal length (cm)', 'petal width (cm)']\n",
      "target_names:['setosa' 'versicolor' 'virginica']\n"
     ]
    }
   ],
   "source": [
    "#  上課程式碼: * 讀取資料&pre-processing → pd.read_csv(\"data.csv\")\n",
    "iris=datasets.load_iris()\n",
    "print(iris[\"feature_names\"])\n",
    "X=pd.DataFrame(iris[\"data\"],columns=iris[\"feature_names\"])  #把資料load進dataframe，且加上標題\n",
    "X=X[[\"sepal length (cm)\",\"petal length (cm)\"]]    #  只要其中的兩項資料就好\n",
    "print(\"target_names:\"+str(iris[\"target_names\"]))  #  iris的target names屬性資料有三種    \n",
    "Y=pd.DataFrame(iris[\"target\"],columns=[\"target\"])  # 這三種target name的target屬性資料是0,1,2\n"
   ]
  },
  {
   "cell_type": "code",
   "execution_count": 31,
   "metadata": {},
   "outputs": [],
   "source": [
    "# 切分訓練集與測試集   →   X_train,X_test,y_train,y_test=train_test_split(x,y,test_size=0.2)\n",
    "from sklearn.model_selection import train_test_split\n",
    "X_train,X_test,y_train,y_test=train_test_split(\n",
    "    X[[\"sepal length (cm)\",\"petal length (cm)\"]],Y[\"target\"],test_size=0.3)"
   ]
  },
  {
   "cell_type": "markdown",
   "metadata": {},
   "source": [
    "# 使用Scikit-Learn 完成預測\n",
    "### Scikit-Learn在三個面向提供支援。\n",
    "1. 獲取資料:***klearn.datasets***\n",
    "2. 掌握資料:***sklearn.preprocessing*** \n",
    "3. 機器學習:***sklearn Estimator API*** \n",
    "\n",
    "獲取資料的方式有很多種（包含檔案、資料庫、網路爬蟲、Kaggle Datasets等），<br>\n",
    "其中最簡單的方式是從Sklearn import 內建的資料庫。由於其特性隨手可得且不用下載，所以我們通常叫他**玩具資料**：\n",
    "\n",
    "# 基本架構\n",
    "\n",
    "* 讀取資料&pre-processing → pd.read_csv(\"data.csv\")\n",
    "* 切分訓練集與測試集   →   X_train,X_test,y_train,y_test=train_test_split(x,y,test_size=0.2)\n",
    "* 模型配適  →  model=svm.SVC(...)   model.fit(X_train,y_train)\n",
    "* 預測   →  pred_Y=model.predict(X_train)      pred_Y=model.predict(X_test)\n",
    "* 評估(計算成績可能是誤差值或正確率或..)   →   model.score(X_train,y_train)  model.score(X_test,y_test)\n"
   ]
  },
  {
   "cell_type": "code",
   "execution_count": 2,
   "metadata": {
    "scrolled": true
   },
   "outputs": [],
   "source": [
    "%matplotlib inline\n",
    "\n",
    "from sklearn import datasets\n",
    "import pandas as pd\n",
    "import numpy as np\n",
    "import matplotlib.pyplot as plt\n",
    "import seaborn as sns\n"
   ]
  },
  {
   "cell_type": "markdown",
   "metadata": {},
   "source": [
    "## 讀取Iris資料集與資料前處理\n",
    "\n",
    "Iris Flowers 資料集\n",
    "\n",
    "我們在這個項目中使用 Iris Data Set，這個資料集中的每個樣本有4個特徵，1個類別。該資料集1中的樣本類別數為3類，每類樣本數目為50個，總共150個樣本。\n",
    "\n",
    "屬性資訊：\n",
    "\n",
    "    花萼長度 sepal length(cm)\n",
    "    花萼寬度 sepal width(cm)\n",
    "    花瓣長度 petal length(cm)\n",
    "    花瓣寬度 petal width(cm)\n",
    "    類別：\n",
    "        Iris Setosa\n",
    "        Iris Versicolour\n",
    "        Iris Virginica\n",
    "\n",
    "樣本特徵資料是數值型的，而且單位都相同（釐米）。\n",
    "\n",
    "![Iris Flowers](images/iris_data.PNG)\n"
   ]
  },
  {
   "cell_type": "code",
   "execution_count": 3,
   "metadata": {},
   "outputs": [
    {
     "name": "stdout",
     "output_type": "stream",
     "text": [
      ".. _iris_dataset:\n",
      "\n",
      "Iris plants dataset\n",
      "--------------------\n",
      "\n",
      "**Data Set Characteristics:**\n",
      "\n",
      "    :Number of Instances: 150 (50 in each of three classes)\n",
      "    :Number of Attributes: 4 numeric, predictive attributes and the class\n",
      "    :Attribute Information:\n",
      "        - sepal length in cm\n",
      "        - sepal width in cm\n",
      "        - petal length in cm\n",
      "        - petal width in cm\n",
      "        - class:\n",
      "                - Iris-Setosa\n",
      "                - Iris-Versicolour\n",
      "                - Iris-Virginica\n",
      "                \n",
      "    :Summary Statistics:\n",
      "\n",
      "    ============== ==== ==== ======= ===== ====================\n",
      "                    Min  Max   Mean    SD   Class Correlation\n",
      "    ============== ==== ==== ======= ===== ====================\n",
      "    sepal length:   4.3  7.9   5.84   0.83    0.7826\n",
      "    sepal width:    2.0  4.4   3.05   0.43   -0.4194\n",
      "    petal length:   1.0  6.9   3.76   1.76    0.9490  (high!)\n",
      "    petal width:    0.1  2.5   1.20   0.76    0.9565  (high!)\n",
      "    ============== ==== ==== ======= ===== ====================\n",
      "\n",
      "    :Missing Attribute Values: None\n",
      "    :Class Distribution: 33.3% for each of 3 classes.\n",
      "    :Creator: R.A. Fisher\n",
      "    :Donor: Michael Marshall (MARSHALL%PLU@io.arc.nasa.gov)\n",
      "    :Date: July, 1988\n",
      "\n",
      "The famous Iris database, first used by Sir R.A. Fisher. The dataset is taken\n",
      "from Fisher's paper. Note that it's the same as in R, but not as in the UCI\n",
      "Machine Learning Repository, which has two wrong data points.\n",
      "\n",
      "This is perhaps the best known database to be found in the\n",
      "pattern recognition literature.  Fisher's paper is a classic in the field and\n",
      "is referenced frequently to this day.  (See Duda & Hart, for example.)  The\n",
      "data set contains 3 classes of 50 instances each, where each class refers to a\n",
      "type of iris plant.  One class is linearly separable from the other 2; the\n",
      "latter are NOT linearly separable from each other.\n",
      "\n",
      ".. topic:: References\n",
      "\n",
      "   - Fisher, R.A. \"The use of multiple measurements in taxonomic problems\"\n",
      "     Annual Eugenics, 7, Part II, 179-188 (1936); also in \"Contributions to\n",
      "     Mathematical Statistics\" (John Wiley, NY, 1950).\n",
      "   - Duda, R.O., & Hart, P.E. (1973) Pattern Classification and Scene Analysis.\n",
      "     (Q327.D83) John Wiley & Sons.  ISBN 0-471-22361-1.  See page 218.\n",
      "   - Dasarathy, B.V. (1980) \"Nosing Around the Neighborhood: A New System\n",
      "     Structure and Classification Rule for Recognition in Partially Exposed\n",
      "     Environments\".  IEEE Transactions on Pattern Analysis and Machine\n",
      "     Intelligence, Vol. PAMI-2, No. 1, 67-71.\n",
      "   - Gates, G.W. (1972) \"The Reduced Nearest Neighbor Rule\".  IEEE Transactions\n",
      "     on Information Theory, May 1972, 431-433.\n",
      "   - See also: 1988 MLC Proceedings, 54-64.  Cheeseman et al\"s AUTOCLASS II\n",
      "     conceptual clustering system finds 3 classes in the data.\n",
      "   - Many, many more ...\n"
     ]
    }
   ],
   "source": [
    "iris = datasets.load_iris()\n",
    "print(iris.DESCR)   # 對資料做一個綜觀的說明"
   ]
  },
  {
   "cell_type": "markdown",
   "metadata": {},
   "source": [
    "* 印出iris的key值與檔案位置\n",
    "* 查看前10筆資料\n",
    "* 查看資料型別\n",
    "* 印出標註的樣本類別資料"
   ]
  },
  {
   "cell_type": "code",
   "execution_count": 13,
   "metadata": {},
   "outputs": [
    {
     "name": "stdout",
     "output_type": "stream",
     "text": [
      "dict_keys(['data', 'target', 'frame', 'target_names', 'DESCR', 'feature_names', 'filename', 'data_module'])\n",
      "[[5.1 3.5 1.4 0.2]\n",
      " [4.9 3.  1.4 0.2]\n",
      " [4.7 3.2 1.3 0.2]\n",
      " [4.6 3.1 1.5 0.2]\n",
      " [5.  3.6 1.4 0.2]\n",
      " [5.4 3.9 1.7 0.4]\n",
      " [4.6 3.4 1.4 0.3]\n",
      " [5.  3.4 1.5 0.2]\n",
      " [4.4 2.9 1.4 0.2]\n",
      " [4.9 3.1 1.5 0.1]]\n",
      "<class 'numpy.ndarray'>\n",
      "['setosa' 'versicolor' 'virginica']\n",
      "iris.csv\n"
     ]
    }
   ],
   "source": [
    "#印出iris的key值與檔案位置\n",
    "print(iris.keys())\n",
    "\n",
    "#查看前10筆資料\n",
    "print(iris.data[0:10])\n",
    "\n",
    "# 查看資料型別\n",
    "print(type(iris.data))  #是numpy的格式!!!\n",
    "\n",
    "# 印出標註的樣本類別資料\n",
    "print(iris.target_names)\n",
    "\n",
    "# 檔案路徑\n",
    "print(iris[\"filename\"])"
   ]
  },
  {
   "cell_type": "code",
   "execution_count": 19,
   "metadata": {},
   "outputs": [
    {
     "name": "stdout",
     "output_type": "stream",
     "text": [
      "(150, 2)\n",
      "[0 0 0 0 0 0 0 0 0 0 0 0 0 0 0 0 0 0 0 0 0 0 0 0 0 0 0 0 0 0 0 0 0 0 0 0 0\n",
      " 0 0 0 0 0 0 0 0 0 0 0 0 0 1 1 1 1 1 1 1 1 1 1 1 1 1 1 1 1 1 1 1 1 1 1 1 1\n",
      " 1 1 1 1 1 1 1 1 1 1 1 1 1 1 1 1 1 1 1 1 1 1 1 1 1 1 2 2 2 2 2 2 2 2 2 2 2\n",
      " 2 2 2 2 2 2 2 2 2 2 2 2 2 2 2 2 2 2 2 2 2 2 2 2 2 2 2 2 2 2 2 2 2 2 2 2 2\n",
      " 2 2]\n"
     ]
    }
   ],
   "source": [
    "# we only take the first two features. \n",
    "X=iris.data[:,:2] #[row,column]取所有的row,前兩個column\n",
    "print(X.shape)\n",
    "Y=iris.target\n",
    "print(Y)"
   ]
  },
  {
   "cell_type": "code",
   "execution_count": 21,
   "metadata": {},
   "outputs": [
    {
     "data": {
      "text/html": [
       "<div>\n",
       "<style scoped>\n",
       "    .dataframe tbody tr th:only-of-type {\n",
       "        vertical-align: middle;\n",
       "    }\n",
       "\n",
       "    .dataframe tbody tr th {\n",
       "        vertical-align: top;\n",
       "    }\n",
       "\n",
       "    .dataframe thead th {\n",
       "        text-align: right;\n",
       "    }\n",
       "</style>\n",
       "<table border=\"1\" class=\"dataframe\">\n",
       "  <thead>\n",
       "    <tr style=\"text-align: right;\">\n",
       "      <th></th>\n",
       "      <th>sepal length (cm)</th>\n",
       "      <th>sepal width (cm)</th>\n",
       "      <th>petal length (cm)</th>\n",
       "      <th>petal width (cm)</th>\n",
       "    </tr>\n",
       "  </thead>\n",
       "  <tbody>\n",
       "    <tr>\n",
       "      <th>0</th>\n",
       "      <td>5.1</td>\n",
       "      <td>3.5</td>\n",
       "      <td>1.4</td>\n",
       "      <td>0.2</td>\n",
       "    </tr>\n",
       "    <tr>\n",
       "      <th>1</th>\n",
       "      <td>4.9</td>\n",
       "      <td>3.0</td>\n",
       "      <td>1.4</td>\n",
       "      <td>0.2</td>\n",
       "    </tr>\n",
       "    <tr>\n",
       "      <th>2</th>\n",
       "      <td>4.7</td>\n",
       "      <td>3.2</td>\n",
       "      <td>1.3</td>\n",
       "      <td>0.2</td>\n",
       "    </tr>\n",
       "    <tr>\n",
       "      <th>3</th>\n",
       "      <td>4.6</td>\n",
       "      <td>3.1</td>\n",
       "      <td>1.5</td>\n",
       "      <td>0.2</td>\n",
       "    </tr>\n",
       "    <tr>\n",
       "      <th>4</th>\n",
       "      <td>5.0</td>\n",
       "      <td>3.6</td>\n",
       "      <td>1.4</td>\n",
       "      <td>0.2</td>\n",
       "    </tr>\n",
       "    <tr>\n",
       "      <th>5</th>\n",
       "      <td>5.4</td>\n",
       "      <td>3.9</td>\n",
       "      <td>1.7</td>\n",
       "      <td>0.4</td>\n",
       "    </tr>\n",
       "    <tr>\n",
       "      <th>6</th>\n",
       "      <td>4.6</td>\n",
       "      <td>3.4</td>\n",
       "      <td>1.4</td>\n",
       "      <td>0.3</td>\n",
       "    </tr>\n",
       "    <tr>\n",
       "      <th>7</th>\n",
       "      <td>5.0</td>\n",
       "      <td>3.4</td>\n",
       "      <td>1.5</td>\n",
       "      <td>0.2</td>\n",
       "    </tr>\n",
       "    <tr>\n",
       "      <th>8</th>\n",
       "      <td>4.4</td>\n",
       "      <td>2.9</td>\n",
       "      <td>1.4</td>\n",
       "      <td>0.2</td>\n",
       "    </tr>\n",
       "    <tr>\n",
       "      <th>9</th>\n",
       "      <td>4.9</td>\n",
       "      <td>3.1</td>\n",
       "      <td>1.5</td>\n",
       "      <td>0.1</td>\n",
       "    </tr>\n",
       "  </tbody>\n",
       "</table>\n",
       "</div>"
      ],
      "text/plain": [
       "   sepal length (cm)  sepal width (cm)  petal length (cm)  petal width (cm)\n",
       "0                5.1               3.5                1.4               0.2\n",
       "1                4.9               3.0                1.4               0.2\n",
       "2                4.7               3.2                1.3               0.2\n",
       "3                4.6               3.1                1.5               0.2\n",
       "4                5.0               3.6                1.4               0.2\n",
       "5                5.4               3.9                1.7               0.4\n",
       "6                4.6               3.4                1.4               0.3\n",
       "7                5.0               3.4                1.5               0.2\n",
       "8                4.4               2.9                1.4               0.2\n",
       "9                4.9               3.1                1.5               0.1"
      ]
     },
     "execution_count": 21,
     "metadata": {},
     "output_type": "execute_result"
    }
   ],
   "source": [
    "#以下是組成 pandas DataFrame (也可以不用這種做)\n",
    "x = pd.DataFrame(iris.data, columns=iris['feature_names'])\n",
    "x.head(10)"
   ]
  },
  {
   "cell_type": "code",
   "execution_count": 26,
   "metadata": {},
   "outputs": [
    {
     "name": "stdout",
     "output_type": "stream",
     "text": [
      "['setosa' 'versicolor' 'virginica']\n"
     ]
    }
   ],
   "source": [
    "print(iris[\"target_names\"])"
   ]
  },
  {
   "cell_type": "code",
   "execution_count": 25,
   "metadata": {},
   "outputs": [
    {
     "data": {
      "text/html": [
       "<div>\n",
       "<style scoped>\n",
       "    .dataframe tbody tr th:only-of-type {\n",
       "        vertical-align: middle;\n",
       "    }\n",
       "\n",
       "    .dataframe tbody tr th {\n",
       "        vertical-align: top;\n",
       "    }\n",
       "\n",
       "    .dataframe thead th {\n",
       "        text-align: right;\n",
       "    }\n",
       "</style>\n",
       "<table border=\"1\" class=\"dataframe\">\n",
       "  <thead>\n",
       "    <tr style=\"text-align: right;\">\n",
       "      <th></th>\n",
       "      <th>targets</th>\n",
       "    </tr>\n",
       "  </thead>\n",
       "  <tbody>\n",
       "    <tr>\n",
       "      <th>0</th>\n",
       "      <td>0</td>\n",
       "    </tr>\n",
       "    <tr>\n",
       "      <th>1</th>\n",
       "      <td>0</td>\n",
       "    </tr>\n",
       "    <tr>\n",
       "      <th>2</th>\n",
       "      <td>0</td>\n",
       "    </tr>\n",
       "    <tr>\n",
       "      <th>3</th>\n",
       "      <td>0</td>\n",
       "    </tr>\n",
       "    <tr>\n",
       "      <th>4</th>\n",
       "      <td>0</td>\n",
       "    </tr>\n",
       "  </tbody>\n",
       "</table>\n",
       "</div>"
      ],
      "text/plain": [
       "   targets\n",
       "0        0\n",
       "1        0\n",
       "2        0\n",
       "3        0\n",
       "4        0"
      ]
     },
     "execution_count": 25,
     "metadata": {},
     "output_type": "execute_result"
    }
   ],
   "source": [
    "#建立Target欄位與資料\n",
    "y=pd.DataFrame(iris[\"target\"],columns=[\"targets\"])\n",
    "y.head()"
   ]
  },
  {
   "cell_type": "code",
   "execution_count": 33,
   "metadata": {},
   "outputs": [
    {
     "data": {
      "text/html": [
       "<div>\n",
       "<style scoped>\n",
       "    .dataframe tbody tr th:only-of-type {\n",
       "        vertical-align: middle;\n",
       "    }\n",
       "\n",
       "    .dataframe tbody tr th {\n",
       "        vertical-align: top;\n",
       "    }\n",
       "\n",
       "    .dataframe thead th {\n",
       "        text-align: right;\n",
       "    }\n",
       "</style>\n",
       "<table border=\"1\" class=\"dataframe\">\n",
       "  <thead>\n",
       "    <tr style=\"text-align: right;\">\n",
       "      <th></th>\n",
       "      <th>sepal length (cm)</th>\n",
       "      <th>sepal width (cm)</th>\n",
       "      <th>petal length (cm)</th>\n",
       "      <th>petal width (cm)</th>\n",
       "      <th>targets</th>\n",
       "    </tr>\n",
       "  </thead>\n",
       "  <tbody>\n",
       "    <tr>\n",
       "      <th>0</th>\n",
       "      <td>5.1</td>\n",
       "      <td>3.5</td>\n",
       "      <td>1.4</td>\n",
       "      <td>0.2</td>\n",
       "      <td>0</td>\n",
       "    </tr>\n",
       "    <tr>\n",
       "      <th>1</th>\n",
       "      <td>4.9</td>\n",
       "      <td>3.0</td>\n",
       "      <td>1.4</td>\n",
       "      <td>0.2</td>\n",
       "      <td>0</td>\n",
       "    </tr>\n",
       "    <tr>\n",
       "      <th>2</th>\n",
       "      <td>4.7</td>\n",
       "      <td>3.2</td>\n",
       "      <td>1.3</td>\n",
       "      <td>0.2</td>\n",
       "      <td>0</td>\n",
       "    </tr>\n",
       "    <tr>\n",
       "      <th>3</th>\n",
       "      <td>4.6</td>\n",
       "      <td>3.1</td>\n",
       "      <td>1.5</td>\n",
       "      <td>0.2</td>\n",
       "      <td>0</td>\n",
       "    </tr>\n",
       "    <tr>\n",
       "      <th>4</th>\n",
       "      <td>5.0</td>\n",
       "      <td>3.6</td>\n",
       "      <td>1.4</td>\n",
       "      <td>0.2</td>\n",
       "      <td>0</td>\n",
       "    </tr>\n",
       "  </tbody>\n",
       "</table>\n",
       "</div>"
      ],
      "text/plain": [
       "   sepal length (cm)  sepal width (cm)  petal length (cm)  petal width (cm)  \\\n",
       "0                5.1               3.5                1.4               0.2   \n",
       "1                4.9               3.0                1.4               0.2   \n",
       "2                4.7               3.2                1.3               0.2   \n",
       "3                4.6               3.1                1.5               0.2   \n",
       "4                5.0               3.6                1.4               0.2   \n",
       "\n",
       "   targets  \n",
       "0        0  \n",
       "1        0  \n",
       "2        0  \n",
       "3        0  \n",
       "4        0  "
      ]
     },
     "execution_count": 33,
     "metadata": {},
     "output_type": "execute_result"
    }
   ],
   "source": [
    "#合併資料特徵欄位與目標欄位\n",
    "iris_concat=pd.concat([x,y],axis=1)\n",
    "iris_concat.head()"
   ]
  },
  {
   "cell_type": "code",
   "execution_count": 38,
   "metadata": {},
   "outputs": [
    {
     "data": {
      "text/html": [
       "<div>\n",
       "<style scoped>\n",
       "    .dataframe tbody tr th:only-of-type {\n",
       "        vertical-align: middle;\n",
       "    }\n",
       "\n",
       "    .dataframe tbody tr th {\n",
       "        vertical-align: top;\n",
       "    }\n",
       "\n",
       "    .dataframe thead th {\n",
       "        text-align: right;\n",
       "    }\n",
       "</style>\n",
       "<table border=\"1\" class=\"dataframe\">\n",
       "  <thead>\n",
       "    <tr style=\"text-align: right;\">\n",
       "      <th></th>\n",
       "      <th>sepal length (cm)</th>\n",
       "      <th>petal length (cm)</th>\n",
       "    </tr>\n",
       "  </thead>\n",
       "  <tbody>\n",
       "    <tr>\n",
       "      <th>0</th>\n",
       "      <td>5.1</td>\n",
       "      <td>1.4</td>\n",
       "    </tr>\n",
       "    <tr>\n",
       "      <th>1</th>\n",
       "      <td>4.9</td>\n",
       "      <td>1.4</td>\n",
       "    </tr>\n",
       "    <tr>\n",
       "      <th>2</th>\n",
       "      <td>4.7</td>\n",
       "      <td>1.3</td>\n",
       "    </tr>\n",
       "    <tr>\n",
       "      <th>3</th>\n",
       "      <td>4.6</td>\n",
       "      <td>1.5</td>\n",
       "    </tr>\n",
       "    <tr>\n",
       "      <th>4</th>\n",
       "      <td>5.0</td>\n",
       "      <td>1.4</td>\n",
       "    </tr>\n",
       "  </tbody>\n",
       "</table>\n",
       "</div>"
      ],
      "text/plain": [
       "   sepal length (cm)  petal length (cm)\n",
       "0                5.1                1.4\n",
       "1                4.9                1.4\n",
       "2                4.7                1.3\n",
       "3                4.6                1.5\n",
       "4                5.0                1.4"
      ]
     },
     "execution_count": 38,
     "metadata": {},
     "output_type": "execute_result"
    }
   ],
   "source": [
    "# 想要取其中的length的話:\n",
    "iris_length=iris_concat[[\"sepal length (cm)\",\"petal length (cm)\"]]  #雙中括號\n",
    "iris_length.head()"
   ]
  },
  {
   "cell_type": "code",
   "execution_count": 43,
   "metadata": {},
   "outputs": [
    {
     "data": {
      "text/html": [
       "<div>\n",
       "<style scoped>\n",
       "    .dataframe tbody tr th:only-of-type {\n",
       "        vertical-align: middle;\n",
       "    }\n",
       "\n",
       "    .dataframe tbody tr th {\n",
       "        vertical-align: top;\n",
       "    }\n",
       "\n",
       "    .dataframe thead th {\n",
       "        text-align: right;\n",
       "    }\n",
       "</style>\n",
       "<table border=\"1\" class=\"dataframe\">\n",
       "  <thead>\n",
       "    <tr style=\"text-align: right;\">\n",
       "      <th></th>\n",
       "      <th>sepal length (cm)</th>\n",
       "      <th>sepal width (cm)</th>\n",
       "      <th>petal length (cm)</th>\n",
       "      <th>petal width (cm)</th>\n",
       "      <th>targets</th>\n",
       "    </tr>\n",
       "  </thead>\n",
       "  <tbody>\n",
       "    <tr>\n",
       "      <th>0</th>\n",
       "      <td>5.1</td>\n",
       "      <td>3.5</td>\n",
       "      <td>1.4</td>\n",
       "      <td>0.2</td>\n",
       "      <td>0</td>\n",
       "    </tr>\n",
       "    <tr>\n",
       "      <th>1</th>\n",
       "      <td>4.9</td>\n",
       "      <td>3.0</td>\n",
       "      <td>1.4</td>\n",
       "      <td>0.2</td>\n",
       "      <td>0</td>\n",
       "    </tr>\n",
       "    <tr>\n",
       "      <th>2</th>\n",
       "      <td>4.7</td>\n",
       "      <td>3.2</td>\n",
       "      <td>1.3</td>\n",
       "      <td>0.2</td>\n",
       "      <td>0</td>\n",
       "    </tr>\n",
       "    <tr>\n",
       "      <th>3</th>\n",
       "      <td>4.6</td>\n",
       "      <td>3.1</td>\n",
       "      <td>1.5</td>\n",
       "      <td>0.2</td>\n",
       "      <td>0</td>\n",
       "    </tr>\n",
       "    <tr>\n",
       "      <th>4</th>\n",
       "      <td>5.0</td>\n",
       "      <td>3.6</td>\n",
       "      <td>1.4</td>\n",
       "      <td>0.2</td>\n",
       "      <td>0</td>\n",
       "    </tr>\n",
       "  </tbody>\n",
       "</table>\n",
       "</div>"
      ],
      "text/plain": [
       "   sepal length (cm)  sepal width (cm)  petal length (cm)  petal width (cm)  \\\n",
       "0                5.1               3.5                1.4               0.2   \n",
       "1                4.9               3.0                1.4               0.2   \n",
       "2                4.7               3.2                1.3               0.2   \n",
       "3                4.6               3.1                1.5               0.2   \n",
       "4                5.0               3.6                1.4               0.2   \n",
       "\n",
       "   targets  \n",
       "0        0  \n",
       "1        0  \n",
       "2        0  \n",
       "3        0  \n",
       "4        0  "
      ]
     },
     "execution_count": 43,
     "metadata": {},
     "output_type": "execute_result"
    }
   ],
   "source": [
    "#只選擇目標為0與1的資料→用.isin()\n",
    "iris_01=iris_concat[iris_concat[\"targets\"].isin([0,1])]  #中文翻譯:irisconcat，此資料中的targets項目，裡面有0和1的留下\n",
    "iris_01.head()"
   ]
  },
  {
   "cell_type": "code",
   "execution_count": 52,
   "metadata": {},
   "outputs": [
    {
     "data": {
      "text/plain": [
       "600"
      ]
     },
     "execution_count": 52,
     "metadata": {},
     "output_type": "execute_result"
    }
   ],
   "source": [
    "#看data資料大小 .size\n",
    "iris[\"data\"].size  #150x4"
   ]
  },
  {
   "cell_type": "markdown",
   "metadata": {},
   "source": [
    "## 切分訓練集與測試集\n",
    "> train_test_split()"
   ]
  },
  {
   "cell_type": "code",
   "execution_count": 71,
   "metadata": {},
   "outputs": [],
   "source": [
    "from sklearn.model_selection import train_test_split\n",
    "X_train,X_test,Y_train,Y_test=train_test_split(iris_length,y,test_size=0.3)"
   ]
  },
  {
   "cell_type": "code",
   "execution_count": null,
   "metadata": {},
   "outputs": [],
   "source": [
    "# 如果要再切分的話，把X_train再丟進train_test_splie裡面"
   ]
  },
  {
   "cell_type": "code",
   "execution_count": 72,
   "metadata": {},
   "outputs": [
    {
     "name": "stdout",
     "output_type": "stream",
     "text": [
      "(105, 2)\n",
      "(105, 1)\n"
     ]
    }
   ],
   "source": [
    "X_train.head()\n",
    "print(X_train.shape)\n",
    "print(Y_train.shape)"
   ]
  },
  {
   "cell_type": "code",
   "execution_count": 73,
   "metadata": {},
   "outputs": [
    {
     "name": "stdout",
     "output_type": "stream",
     "text": [
      "(45, 2)\n",
      "(45, 1)\n"
     ]
    }
   ],
   "source": [
    "X_test.head()\n",
    "print(X_test.shape)\n",
    "print(Y_test.shape)"
   ]
  },
  {
   "cell_type": "markdown",
   "metadata": {},
   "source": [
    "# Appendix \n",
    "\n",
    ">normalization和standardization是差不多的<br>\n",
    "都是把數據進行前處理，從而使數值都落入到統一的數值範圍，從而在建模過程中，各個特徵量沒差別對待。<br> \n",
    "* normalization一般是把數據限定在需要的範圍，比如一般都是【0，1】，從而消除了數據量綱對建模的影響。<br> \n",
    "* standardization 一般是指將數據正態化，使平均值0方差為1.<br> \n",
    "\n",
    "因此normalization和standardization 是針對數據而言的，消除一些數值差異帶來的特種重要性偏見。<br>\n",
    "經過歸一化的數據，能加快訓練速度，促進算法的收斂。\n",
    "\n",
    "### Standardization (z-score)\n",
    "    to compute the mean and standard deviation on a training set so as to be able to later reapply the same transformation on the testing set. "
   ]
  },
  {
   "cell_type": "code",
   "execution_count": 94,
   "metadata": {},
   "outputs": [],
   "source": [
    "# 手動的標準化: 把標準化寫成function\n",
    "def norm_stats(dfs):\n",
    "    minimum = np.min(dfs)\n",
    "    maximum = np.max(dfs)\n",
    "    mu = np.mean(dfs)\n",
    "    sigma = np.std(dfs)\n",
    "    return (minimum, maximum, mu, sigma)  #小、大、平、標\n",
    "\n",
    "\n",
    "def z_score(df, stats):\n",
    "    m, M, mu, s = stats\n",
    "    result = pd.DataFrame()  # 先宣告一個標準化後的結果result\n",
    "    for i in df.columns:\n",
    "        result[i] = (df[i]-mu[i])/s[i]  #  針對每一項欄位中的資料，作全體運算:減去平均值除以標準差，且丟進剛剛的result中\n",
    "    return result"
   ]
  },
  {
   "cell_type": "code",
   "execution_count": 86,
   "metadata": {},
   "outputs": [
    {
     "name": "stdout",
     "output_type": "stream",
     "text": [
      "sepal length (cm)\n",
      "petal length (cm)\n"
     ]
    }
   ],
   "source": [
    "type(X_train)\n",
    "for i in X_train.columns:\n",
    "    print(i)"
   ]
  },
  {
   "cell_type": "code",
   "execution_count": 99,
   "metadata": {},
   "outputs": [
    {
     "name": "stdout",
     "output_type": "stream",
     "text": [
      "(sepal length (cm)    4.3\n",
      "petal length (cm)    1.0\n",
      "dtype: float64, sepal length (cm)    7.7\n",
      "petal length (cm)    6.9\n",
      "dtype: float64, sepal length (cm)    5.862857\n",
      "petal length (cm)    3.856190\n",
      "dtype: float64, sepal length (cm)    0.821295\n",
      "petal length (cm)    1.714305\n",
      "dtype: float64)\n",
      "[[ 0.53226058  0.60888194]\n",
      " [-0.44181107 -0.09111007]\n",
      " [-0.19829316  0.20055327]\n",
      " [ 2.23688599  1.65886995]\n",
      " [ 0.65401954  0.25888593]\n",
      " [-1.65940065 -1.49109408]\n",
      " [ 0.28874267  0.4922166 ]\n",
      " [-1.53764169 -1.66609208]\n",
      " [-0.44181107  0.08388793]\n",
      " [ 1.87160911  1.30887394]\n",
      " [-1.53764169 -1.37442875]\n",
      " [ 1.26281433  0.60888194]\n",
      " [ 0.28874267  0.4922166 ]\n",
      " [-0.80708794 -1.37442875]\n",
      " [ 0.28874267  0.43388393]\n",
      " [-0.32005212  0.02555526]\n",
      " [ 1.74985016  1.42553928]\n",
      " [ 0.7757785   1.13387594]\n",
      " [-1.41588273 -1.31609608]\n",
      " [ 1.01929641  0.6672146 ]\n",
      " [ 0.16698371  0.08388793]\n",
      " [ 1.14105537  0.55054927]\n",
      " [-0.32005212  0.1422206 ]\n",
      " [-1.7811596  -1.49109408]\n",
      " [-1.53764169 -1.43276142]\n",
      " [ 0.41050163  0.55054927]\n",
      " [-1.17236482 -1.37442875]\n",
      " [ 1.26281433  0.90054527]\n",
      " [-1.29412377 -1.14109808]\n",
      " [ 0.53226058  1.01721061]\n",
      " [-0.44181107 -0.0327774 ]\n",
      " [ 1.01929641  0.4922166 ]\n",
      " [-0.44181107 -1.49109408]\n",
      " [-0.9288469  -1.31609608]\n",
      " [ 0.65401954  0.37555127]\n",
      " [-0.9288469  -1.37442875]\n",
      " [ 1.14105537  1.19220861]\n",
      " [-1.90291856 -1.60775942]\n",
      " [ 0.65401954  0.8422126 ]\n",
      " [ 1.01929641  1.01721061]\n",
      " [-1.41588273 -1.49109408]\n",
      " [ 0.28874267  0.08388793]\n",
      " [ 0.65401954  1.01721061]\n",
      " [-0.0765342   0.1422206 ]\n",
      " [-0.56357003 -1.25776341]\n",
      " [ 0.53226058  0.72554727]\n",
      " [ 0.04522476  0.20055327]\n",
      " [ 0.53226058  0.60888194]\n",
      " [ 1.50633224  1.19220861]\n",
      " [-0.56357003 -1.25776341]\n",
      " [ 0.65401954  0.95887794]\n",
      " [-0.44181107 -1.43276142]\n",
      " [-0.9288469  -1.37442875]\n",
      " [-0.19829316 -0.20777541]\n",
      " [-0.44181107  0.08388793]\n",
      " [-1.05060586 -1.49109408]\n",
      " [-1.17236482 -0.32444074]\n",
      " [-0.19829316  0.1422206 ]\n",
      " [ 0.16698371  0.6672146 ]\n",
      " [ 0.53226058  1.25054127]\n",
      " [-0.0765342   0.72554727]\n",
      " [ 0.41050163  0.25888593]\n",
      " [ 2.23688599  1.77553528]\n",
      " [-1.17236482 -1.43276142]\n",
      " [ 0.53226058  0.6672146 ]\n",
      " [ 0.53226058  0.4922166 ]\n",
      " [-0.56357003  0.37555127]\n",
      " [ 2.23688599  1.65886995]\n",
      " [ 0.41050163  0.37555127]\n",
      " [-0.19829316  0.20055327]\n",
      " [ 1.6280912   1.13387594]\n",
      " [-0.56357003 -1.37442875]\n",
      " [ 0.16698371  0.55054927]\n",
      " [ 0.41050163  0.90054527]\n",
      " [-1.17236482  0.37555127]\n",
      " [-0.9288469  -1.43276142]\n",
      " [ 1.26281433  1.07554327]\n",
      " [-0.0765342   0.08388793]\n",
      " [-0.19829316  0.6672146 ]\n",
      " [ 0.28874267  0.60888194]\n",
      " [ 1.6280912   1.25054127]\n",
      " [-0.0765342   0.72554727]\n",
      " [-1.7811596  -1.43276142]\n",
      " [-1.05060586 -0.32444074]\n",
      " [ 0.7757785   0.78387994]\n",
      " [-1.05060586 -1.43276142]\n",
      " [-0.9288469  -1.37442875]\n",
      " [-0.32005212  0.60888194]\n",
      " [-0.9288469  -1.43276142]\n",
      " [-0.44181107  0.3172186 ]\n",
      " [ 1.01929641  1.07554327]\n",
      " [-1.17236482 -1.37442875]\n",
      " [-0.0765342   0.02555526]\n",
      " [-1.53764169 -1.43276142]\n",
      " [ 0.7757785   0.72554727]\n",
      " [-0.19829316 -1.37442875]\n",
      " [-0.80708794 -1.43276142]\n",
      " [ 2.11512703  1.60053728]\n",
      " [ 0.89753746  0.3172186 ]\n",
      " [ 1.26281433  0.72554727]\n",
      " [-0.9288469  -0.49943874]\n",
      " [ 0.16698371  0.37555127]\n",
      " [ 0.04522476  0.55054927]\n",
      " [ 0.7757785   0.43388393]\n",
      " [-1.05060586 -1.31609608]]\n",
      "(sepal length (cm)    4.4\n",
      "petal length (cm)    1.2\n",
      "dtype: float64, sepal length (cm)    7.9\n",
      "petal length (cm)    6.4\n",
      "dtype: float64, sepal length (cm)    5.797778\n",
      "petal length (cm)    3.528889\n",
      "dtype: float64, sepal length (cm)    0.832797\n",
      "petal length (cm)    1.840123\n",
      "dtype: float64)\n",
      "[[-0.83787272 -0.88520631]\n",
      " [ 0.72313219  1.12552835]\n",
      " [-0.71779542  0.20167729]\n",
      " [-0.11740892 -0.99389467]\n",
      " [ 1.6837506   1.39724925]\n",
      " [-1.19810463 -1.04823885]\n",
      " [ 1.0833641   0.47339819]\n",
      " [-1.19810463 -1.15692721]\n",
      " [-1.19810463 -1.04823885]\n",
      " [ 2.52429171  1.56028179]\n",
      " [-0.95795003 -1.15692721]\n",
      " [ 2.28413711  1.39724925]\n",
      " [-1.19810463 -1.15692721]\n",
      " [ 0.12274569  0.85380745]\n",
      " [-0.71779542 -1.10258303]\n",
      " [-0.23748622  0.52774237]\n",
      " [ 0.60305489  1.12552835]\n",
      " [ 0.84320949  1.07118417]\n",
      " [ 0.24282299  0.85380745]\n",
      " [ 1.0833641   1.23421671]\n",
      " [ 0.00266838 -1.26561557]\n",
      " [ 0.60305489  0.47339819]\n",
      " [-0.83787272 -0.99389467]\n",
      " [-0.47764082 -1.10258303]\n",
      " [-0.23748622  0.36470983]\n",
      " [ 0.36290029  1.12552835]\n",
      " [-0.59771812 -1.10258303]\n",
      " [ 0.00266838  0.85380745]\n",
      " [ 0.72313219  0.96249581]\n",
      " [-0.95795003 -1.04823885]\n",
      " [ 1.0833641   0.90815163]\n",
      " [ 1.2034414   1.07118417]\n",
      " [-0.11740892  0.52774237]\n",
      " [ 1.443596    0.63643073]\n",
      " [-1.67841383 -1.21127139]\n",
      " [-1.07802733 -1.15692721]\n",
      " [ 0.96328679  0.58208655]\n",
      " [-0.95795003 -1.10258303]\n",
      " [ 0.24282299  0.52774237]\n",
      " [ 1.0833641   1.17987253]\n",
      " [-0.95795003 -1.04823885]\n",
      " [-0.95795003 -1.26561557]\n",
      " [-0.47764082 -1.21127139]\n",
      " [-0.95795003 -0.01569943]\n",
      " [-0.23748622  0.03864475]]\n"
     ]
    },
    {
     "name": "stderr",
     "output_type": "stream",
     "text": [
      "C:\\Users\\user\\anaconda3\\lib\\site-packages\\numpy\\core\\fromnumeric.py:84: FutureWarning: In a future version, DataFrame.min(axis=None) will return a scalar min over the entire DataFrame. To retain the old behavior, use 'frame.min(axis=0)' or just 'frame.min()'\n",
      "  return reduction(axis=axis, out=out, **passkwargs)\n",
      "C:\\Users\\user\\anaconda3\\lib\\site-packages\\numpy\\core\\fromnumeric.py:84: FutureWarning: In a future version, DataFrame.max(axis=None) will return a scalar max over the entire DataFrame. To retain the old behavior, use 'frame.max(axis=0)' or just 'frame.max()'\n",
      "  return reduction(axis=axis, out=out, **passkwargs)\n",
      "C:\\Users\\user\\anaconda3\\lib\\site-packages\\numpy\\core\\fromnumeric.py:3430: FutureWarning: In a future version, DataFrame.mean(axis=None) will return a scalar mean over the entire DataFrame. To retain the old behavior, use 'frame.mean(axis=0)' or just 'frame.mean()'\n",
      "  return mean(axis=axis, dtype=dtype, out=out, **kwargs)\n",
      "C:\\Users\\user\\anaconda3\\lib\\site-packages\\numpy\\core\\fromnumeric.py:84: FutureWarning: In a future version, DataFrame.min(axis=None) will return a scalar min over the entire DataFrame. To retain the old behavior, use 'frame.min(axis=0)' or just 'frame.min()'\n",
      "  return reduction(axis=axis, out=out, **passkwargs)\n",
      "C:\\Users\\user\\anaconda3\\lib\\site-packages\\numpy\\core\\fromnumeric.py:84: FutureWarning: In a future version, DataFrame.max(axis=None) will return a scalar max over the entire DataFrame. To retain the old behavior, use 'frame.max(axis=0)' or just 'frame.max()'\n",
      "  return reduction(axis=axis, out=out, **passkwargs)\n",
      "C:\\Users\\user\\anaconda3\\lib\\site-packages\\numpy\\core\\fromnumeric.py:3430: FutureWarning: In a future version, DataFrame.mean(axis=None) will return a scalar mean over the entire DataFrame. To retain the old behavior, use 'frame.mean(axis=0)' or just 'frame.mean()'\n",
      "  return mean(axis=axis, dtype=dtype, out=out, **kwargs)\n"
     ]
    }
   ],
   "source": [
    "#  範例演示\n",
    "stats = norm_stats(X_train)\n",
    "print(stats)\n",
    "arr_x_train = np.array(z_score(X_train, stats))   #zscore()出來的是dataframe，再把他改成numpy格式\n",
    "print(arr_x_train)\n",
    "\n",
    "stats = norm_stats(X_test)\n",
    "print(stats)\n",
    "arr_x_test = np.array(z_score(X_test, stats))   #zscore()出來的是dataframe，再把他改成numpy格式\n",
    "print(arr_x_test)"
   ]
  },
  {
   "cell_type": "markdown",
   "metadata": {},
   "source": [
    "## use sklearn"
   ]
  },
  {
   "cell_type": "code",
   "execution_count": 96,
   "metadata": {},
   "outputs": [
    {
     "name": "stdout",
     "output_type": "stream",
     "text": [
      "[5.86285714 3.85619048]\n",
      "[0.82129481 1.71430529]\n"
     ]
    }
   ],
   "source": [
    "#  用sklearn中的功能StandardScaler().fit(X_train)，可以直接幫你算平均值、標準查\n",
    "from sklearn.preprocessing import StandardScaler\n",
    "sc = StandardScaler().fit(X_train)  #Compute the statistics to be used for later scaling.\n",
    "print(sc.mean_)  # 叫出平均值\n",
    "print(sc.scale_) # 叫出標準差"
   ]
  },
  {
   "cell_type": "code",
   "execution_count": 97,
   "metadata": {},
   "outputs": [
    {
     "data": {
      "text/plain": [
       "array([[ 0.53226058,  0.60888194],\n",
       "       [-0.44181107, -0.09111007],\n",
       "       [-0.19829316,  0.20055327],\n",
       "       [ 2.23688599,  1.65886995],\n",
       "       [ 0.65401954,  0.25888593]])"
      ]
     },
     "execution_count": 97,
     "metadata": {},
     "output_type": "execute_result"
    }
   ],
   "source": [
    "#  直接標準化用剛剛StandardScaler().fit(資料)完的資料 +  .transform(資料)\n",
    "X_train_std = sc.transform(X_train)\n",
    "X_train_std[:5]"
   ]
  },
  {
   "cell_type": "markdown",
   "metadata": {},
   "source": [
    "The scaler instance can then be used on new data to transform it the same way it did on the training set:"
   ]
  },
  {
   "cell_type": "code",
   "execution_count": 100,
   "metadata": {},
   "outputs": [
    {
     "name": "stdout",
     "output_type": "stream",
     "text": [
      "[[-0.9288469  -1.14109808]\n",
      " [ 0.65401954  1.01721061]\n",
      " [-0.80708794  0.02555526]\n",
      " [-0.19829316 -1.25776341]\n",
      " [ 1.6280912   1.30887394]\n",
      " [-1.29412377 -1.31609608]\n",
      " [ 1.01929641  0.3172186 ]\n",
      " [-1.29412377 -1.43276142]\n",
      " [-1.29412377 -1.31609608]\n",
      " [ 2.4804039   1.48387194]]\n"
     ]
    }
   ],
   "source": [
    "#  之後的資料若省略前面的步驟直接sc.transform(資料)，會是錯的!!!!!!!!!，因為此時用的scaler資料是前面train的平均值和標準差去運算的\n",
    "X_test_std = sc.transform(X_test)\n",
    "print(X_test_std[:10])"
   ]
  },
  {
   "cell_type": "markdown",
   "metadata": {},
   "source": [
    "you can also use fit_transform method (i.e., fit and then transform)    "
   ]
  },
  {
   "cell_type": "code",
   "execution_count": 102,
   "metadata": {},
   "outputs": [
    {
     "name": "stdout",
     "output_type": "stream",
     "text": [
      "[[-0.83787272 -0.88520631]\n",
      " [ 0.72313219  1.12552835]\n",
      " [-0.71779542  0.20167729]\n",
      " [-0.11740892 -0.99389467]\n",
      " [ 1.6837506   1.39724925]\n",
      " [-1.19810463 -1.04823885]\n",
      " [ 1.0833641   0.47339819]\n",
      " [-1.19810463 -1.15692721]\n",
      " [-1.19810463 -1.04823885]\n",
      " [ 2.52429171  1.56028179]]\n"
     ]
    }
   ],
   "source": [
    "#  阿如果加上.fit就是對的!!!!\n",
    "X_test_std = sc.fit_transform(X_test)\n",
    "print(X_test_std[:10])\n"
   ]
  },
  {
   "cell_type": "code",
   "execution_count": 104,
   "metadata": {},
   "outputs": [
    {
     "name": "stdout",
     "output_type": "stream",
     "text": [
      "mean of X_train_std: -0.0\n",
      "std of X_train_std: 1.0\n"
     ]
    }
   ],
   "source": [
    "print('mean of X_train_std:',np.round(X_train_std.mean(),4))   #標準化後資料的平均值\n",
    "print('std of X_train_std:',X_train_std.std())  #標準化後資料的標準差"
   ]
  },
  {
   "cell_type": "markdown",
   "metadata": {},
   "source": [
    "## Min-Max Normaliaztion\n",
    "    Transforms features by scaling each feature to a given range.\n",
    "    The transformation is given by:\n",
    "\n",
    "    X' = X - X.min(axis=0) / ((X.max(axis=0) - X.min(axis=0))\n",
    "    X -> N 維資料\n",
    "    \n"
   ]
  },
  {
   "cell_type": "code",
   "execution_count": 106,
   "metadata": {},
   "outputs": [
    {
     "name": "stdout",
     "output_type": "stream",
     "text": [
      "49.94109270440332\n",
      "31.15239732752756\n"
     ]
    },
    {
     "data": {
      "image/png": "[encoded data removed]",
      "text/plain": [
       "<Figure size 640x480 with 1 Axes>"
      ]
     },
     "metadata": {},
     "output_type": "display_data"
    }
   ],
   "source": [
    "#  生成200個亂數資料\n",
    "x1 = np.random.normal(50, 6, 100)  # np.random.normal(mu,sigma,size))\n",
    "y1 = np.random.normal(5, 0.5, 100)\n",
    "\n",
    "x2 = np.random.normal(30,6,100)\n",
    "y2 = np.random.normal(4,0.5,100)\n",
    "plt.scatter(x1,y1,c='b',marker='s',s=20,alpha=0.8)\n",
    "plt.scatter(x2,y2,c='r', marker='^', s=20, alpha=0.8)\n",
    "\n",
    "print(np.sum(x1)/len(x1))\n",
    "print(np.sum(x2)/len(x2))"
   ]
  },
  {
   "cell_type": "code",
   "execution_count": 107,
   "metadata": {},
   "outputs": [
    {
     "data": {
      "text/plain": [
       "(200,)"
      ]
     },
     "execution_count": 107,
     "metadata": {},
     "output_type": "execute_result"
    }
   ],
   "source": [
    "x_val = np.concatenate((x1,x2))\n",
    "y_val = np.concatenate((y1,y2))\n",
    "\n",
    "x_val.shape"
   ]
  },
  {
   "cell_type": "code",
   "execution_count": 108,
   "metadata": {},
   "outputs": [],
   "source": [
    "#  土法煉鋼直接定義function\n",
    "def minmax_norm(X):\n",
    "    return (X - X.min(axis=0)) / ((X.max(axis=0) - X.min(axis=0)))"
   ]
  },
  {
   "cell_type": "code",
   "execution_count": 36,
   "metadata": {},
   "outputs": [
    {
     "data": {
      "text/plain": [
       "array([0.12277553, 0.93183879, 0.56269276, 0.31105516, 0.34768417,\n",
       "       0.17620994, 0.        , 0.09094066, 0.15955258, 1.        ])"
      ]
     },
     "execution_count": 36,
     "metadata": {},
     "output_type": "execute_result"
    }
   ],
   "source": [
    "minmax_norm(x_val[:10])"
   ]
  },
  {
   "cell_type": "code",
   "execution_count": 131,
   "metadata": {
    "scrolled": false
   },
   "outputs": [
    {
     "name": "stdout",
     "output_type": "stream",
     "text": [
      "[67.98435624]\n",
      "[17.49728527]\n",
      "[[0.6591035 ]\n",
      " [0.79107052]\n",
      " [0.74698489]\n",
      " [0.67901878]\n",
      " [0.6864753 ]]\n"
     ]
    }
   ],
   "source": [
    "#  高級做法: MinMaxscaler\n",
    "from sklearn.preprocessing import MinMaxScaler\n",
    "x_val=x_val.reshape(-1, 1)  # 因為原本是一維資料，我要變成二維資料\n",
    "scaler = MinMaxScaler().fit(x_val)  # default range 0~1\n",
    "print(scaler.data_max_)\n",
    "print(scaler.data_min_)\n",
    "print(scaler.transform(x_val)[0:5])"
   ]
  },
  {
   "cell_type": "code",
   "execution_count": 142,
   "metadata": {},
   "outputs": [
    {
     "name": "stdout",
     "output_type": "stream",
     "text": [
      "<class 'numpy.ndarray'>\n",
      "[[0.48484848 0.21052632 0.73214286 0.625     ]\n",
      " [0.12121212 0.42105263 0.10714286 0.04166667]\n",
      " [0.21212121 0.78947368 0.08928571 0.08333333]\n",
      " [0.39393939 0.78947368 0.125      0.08333333]\n",
      " [0.18181818 0.52631579 0.07142857 0.04166667]]\n",
      "<class 'numpy.ndarray'>\n",
      "[[0.48484848 0.21052632 0.73214286 0.625     ]\n",
      " [0.12121212 0.42105263 0.10714286 0.04166667]\n",
      " [0.21212121 0.78947368 0.08928571 0.08333333]\n",
      " [0.39393939 0.78947368 0.125      0.08333333]\n",
      " [0.18181818 0.52631579 0.07142857 0.04166667]]\n",
      "<class 'numpy.ndarray'>\n"
     ]
    }
   ],
   "source": [
    "#  結論\n",
    "from sklearn.model_selection import train_test_split\n",
    "X_train,X_test,Y_train,Y_test=train_test_split(iris.data,iris.target,test_size=0.3)\n",
    "\n",
    "from sklearn.preprocessing import StandardScaler\n",
    "s=StandardScaler().fit_transform(X_test)\n",
    "print(type(s))\n",
    "\n",
    "\n",
    "from sklearn.preprocessing import MinMaxScaler\n",
    "np.array(X_test).reshape(-1,1)  #轉成二維\n",
    "n=MinMaxScaler().fit_transform(X_test)  #這邊變成_transform了，不是點??\n",
    "print(n[0:5])\n",
    "print(type(n))\n",
    "\n",
    "check=minmax_norm(X_test)\n",
    "print(check[0:5])\n",
    "print(type(check))"
   ]
  }
 ],
 "metadata": {
  "kernelspec": {
   "display_name": "Python 3 (ipykernel)",
   "language": "python",
   "name": "python3"
  },
  "language_info": {
   "codemirror_mode": {
    "name": "ipython",
    "version": 3
   },
   "file_extension": ".py",
   "mimetype": "text/x-python",
   "name": "python",
   "nbconvert_exporter": "python",
   "pygments_lexer": "ipython3",
   "version": "3.10.9"
  }
 },
 "nbformat": 4,
 "nbformat_minor": 2
}
