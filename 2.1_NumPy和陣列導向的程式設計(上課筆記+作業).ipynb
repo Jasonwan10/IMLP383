{
 "cells": [
  {
   "cell_type": "markdown",
   "metadata": {},
   "source": [
    "# NumPy 和陣列導向的程式設計\n",
    "\n",
    "`NumPy` 可以說是 Python 中最最標準的科學計算、數據分析套件。也因為 `NumPy` 的出現, 讓 Python 有了非常好的數據分析基礎, 一直到現在成為數據分析覇主。"
   ]
  },
  {
   "cell_type": "code",
   "execution_count": 193,
   "metadata": {},
   "outputs": [],
   "source": [
    "import numpy as np"
   ]
  },
  {
   "cell_type": "code",
   "execution_count": 4,
   "metadata": {},
   "outputs": [
    {
     "name": "stdout",
     "output_type": "stream",
     "text": [
      "1 2 3 4 "
     ]
    }
   ],
   "source": [
    "# 巢狀迴圈走訪array\n",
    "import numpy as np\n",
    "b=np.array([[1,2],[3,4]])\n",
    "for i in b:\n",
    "    for j in i:\n",
    "        print(j,end=\" \")"
   ]
  },
  {
   "cell_type": "code",
   "execution_count": 22,
   "metadata": {},
   "outputs": [
    {
     "name": "stdout",
     "output_type": "stream",
     "text": [
      "[[4 5]\n",
      " [6 7]]\n"
     ]
    }
   ],
   "source": [
    "#  向量四則運算: 向量&純量→直接加減乘除，但向量&向量需要相同維度\n",
    "b=np.array([[1,2],[3,4]])\n",
    "a=3\n",
    "c=a+b\n",
    "print(c)"
   ]
  },
  {
   "cell_type": "code",
   "execution_count": 21,
   "metadata": {},
   "outputs": [
    {
     "name": "stdout",
     "output_type": "stream",
     "text": [
      "11\n"
     ]
    }
   ],
   "source": [
    "#  向量內積: a內積b → a.dot(b)、矩陣內積和數學依樣\n",
    "a=np.array([1,2])\n",
    "b=np.array([3,4])\n",
    "c=a.dot(b)\n",
    "print(c)"
   ]
  },
  {
   "cell_type": "code",
   "execution_count": 23,
   "metadata": {},
   "outputs": [
    {
     "name": "stdout",
     "output_type": "stream",
     "text": [
      "5.0\n"
     ]
    }
   ],
   "source": [
    "#  向量長度: np.linalg.norm(參數)\n",
    "b=np.array([3,4])\n",
    "print(np.linalg.norm(b))"
   ]
  },
  {
   "cell_type": "code",
   "execution_count": 26,
   "metadata": {},
   "outputs": [
    {
     "name": "stdout",
     "output_type": "stream",
     "text": [
      "[2 3] [1 2 3] [4 5 6]\n"
     ]
    }
   ],
   "source": [
    "#  向量切片\n",
    "a=np.array([1,2,3,4,5,6])\n",
    "b,c,d=a[1:3], a[:3], a[3:]\n",
    "print(b,c,d)"
   ]
  },
  {
   "cell_type": "code",
   "execution_count": 44,
   "metadata": {},
   "outputs": [
    {
     "name": "stdout",
     "output_type": "stream",
     "text": [
      "[[ 1  2  3  4  5]\n",
      " [ 6  7  8  9 10]\n",
      " [11 12 13 14 15]\n",
      " [16 17 18 19 20]\n",
      " [21 22 23 24 25]]\n",
      "------------\n",
      "[2 3 4]\n",
      "------------\n",
      "[ 6 11 16]\n",
      "------------\n",
      "[[1 2]\n",
      " [6 7]]\n",
      "------------\n",
      "[ 2  7 12 17 22]\n",
      "------------\n",
      "[[ 1  3  5]\n",
      " [11 13 15]\n",
      " [21 23 25]]\n",
      "------------\n",
      "[ 1  7 13 19 25]\n",
      "------------\n",
      "[ 3 13 23]\n"
     ]
    },
    {
     "name": "stderr",
     "output_type": "stream",
     "text": [
      "C:\\Users\\user\\AppData\\Local\\Temp\\ipykernel_12832\\1689151258.py:18: DeprecationWarning: `np.bool` is a deprecated alias for the builtin `bool`. To silence this warning, use `bool` by itself. Doing this will not modify any behavior and is safe. If you specifically wanted the numpy scalar type, use `np.bool_` here.\n",
      "Deprecated in NumPy 1.20; for more details and guidance: https://numpy.org/devdocs/release/1.20.0-notes.html#deprecations\n",
      "  mask=np.array([1,0,1,0,1],dtype=np.bool) # 布林值\n"
     ]
    }
   ],
   "source": [
    "#  reshape、切割矩陣 [列,欄,step]\n",
    "a=np.arange(1,26)\n",
    "a=a.reshape(5,5)\n",
    "print(a)\n",
    "print(\"------------\")\n",
    "print(a[0,1:4])\n",
    "print(\"------------\")\n",
    "print(a[1:4,0])\n",
    "print(\"------------\")\n",
    "print(a[0:2,0:2])\n",
    "print(\"------------\")\n",
    "print(a[0:6,1])  # 只要其中一項是單一個數字，出來的結果會儲存成list\n",
    "print(\"------------\")\n",
    "print(a[::2,::2])\n",
    "print(\"------------\")\n",
    "print(a[(0,1,2,3,4),(0,1,2,3,4)])  # 取五個座標點(0,0),(1,1),(2,2)...\n",
    "print(\"------------\")\n",
    "mask=np.array([1,0,1,0,1],dtype=np.bool) # 布林值\n",
    "print(a[mask,2])  #  代表要取True的row=0,2,4行"
   ]
  },
  {
   "cell_type": "code",
   "execution_count": 41,
   "metadata": {},
   "outputs": [
    {
     "name": "stdout",
     "output_type": "stream",
     "text": [
      "[1 2 5]\n",
      "[False  True False  True False]\n"
     ]
    }
   ],
   "source": [
    "#  進階索引值選資料\n",
    "a=np.array([1,2,3,4,5])\n",
    "print(a[[0,1,4]])   #記得要兩個中括號!!!\n",
    "odd=(a%2==0)\n",
    "print(odd)"
   ]
  },
  {
   "cell_type": "code",
   "execution_count": 189,
   "metadata": {},
   "outputs": [
    {
     "name": "stdout",
     "output_type": "stream",
     "text": [
      "4\n",
      "[3 4 6 7]\n",
      "[1 1 1 1 0 1 0 1 1 0]\n",
      "[ 0  0  6  6 24  0  0  6  2  0]\n"
     ]
    }
   ],
   "source": [
    "#  進階選資料:\n",
    "x=np.array([0,4,3,3,8,4,7,3,1,7])\n",
    "y=np.array([0,4,3,5,6,4,1,2,1,7])\n",
    "print( np.argmax(x) )               #最大值的索引值\n",
    "print( np.where(x!=y)[0] )          #找到x!=y的索引值\n",
    "print( np.where(x<5, 1, 0) )        #x<5的話值改成1，其他是0\n",
    "print( np.piecewise(x,[x<4,x>7], [lambda x:x*2, lambda x:x*3]))     #小於4的話*2, 大於7的話*3，其他變成0"
   ]
  },
  {
   "cell_type": "code",
   "execution_count": 46,
   "metadata": {},
   "outputs": [
    {
     "name": "stdout",
     "output_type": "stream",
     "text": [
      "[1 2 3 4 5 6]\n"
     ]
    }
   ],
   "source": [
    "#  陣列平坦化 a.ravel()或是 np.ravel(a)\n",
    "a=np.array([[1,2,3],[4,5,6]])\n",
    "a=a.ravel()\n",
    "print(a)"
   ]
  },
  {
   "cell_type": "code",
   "execution_count": 56,
   "metadata": {
    "scrolled": true
   },
   "outputs": [
    {
     "name": "stdout",
     "output_type": "stream",
     "text": [
      "[[1]\n",
      " [2]\n",
      " [3]]\n",
      "(3, 1)\n"
     ]
    }
   ],
   "source": [
    "#  改變陣列維度  np.newaxis\n",
    "a=np.array([1,2,3])\n",
    "a=a[: ,np.newaxis]\n",
    "print(a)\n",
    "print(a.shape)"
   ]
  },
  {
   "cell_type": "code",
   "execution_count": 53,
   "metadata": {},
   "outputs": [
    {
     "name": "stdout",
     "output_type": "stream",
     "text": [
      "[[1 3]\n",
      " [2 4]]\n",
      "[[1 3 5]\n",
      " [2 4 6]]\n"
     ]
    }
   ],
   "source": [
    "#  顛倒矩陣 a.transpose()或是a.T\n",
    "a=np.array([[1,2],[3,4]])\n",
    "a=a.transpose()\n",
    "print(a)\n",
    "b=np.array([[1,2],[3,4],[5,6]])\n",
    "b=b.T   # 不用括號\n",
    "print(b)"
   ]
  },
  {
   "cell_type": "code",
   "execution_count": 67,
   "metadata": {},
   "outputs": [
    {
     "name": "stdout",
     "output_type": "stream",
     "text": [
      "[1 2 3 4]\n",
      "[4 4 4 4]\n"
     ]
    }
   ],
   "source": [
    "#  陣列複製 .copy()、陣列填滿值 .fill()、陣列連接 np.concatenate((要連接的))\n",
    "a=np.array([1,2,3,4])\n",
    "b=a.copy()   # 要用copy才不會改a、b連動一起改，若用b=a的時候會變成一起改動→因為這兩個儲存的地方會是同一個，但copy儲存的地方是不同的\n",
    "print(b)\n",
    "b.fill(4)   # 全部填滿4\n",
    "print(b)\n",
    "c= np.concatenate((a,b))  #要雙括號!!!!"
   ]
  },
  {
   "cell_type": "code",
   "execution_count": 76,
   "metadata": {
    "scrolled": true
   },
   "outputs": [
    {
     "name": "stdout",
     "output_type": "stream",
     "text": [
      "[[1 2]\n",
      " [3 4]\n",
      " [5 6]\n",
      " [7 8]]\n",
      "[[1 2 5 6]\n",
      " [3 4 7 8]]\n"
     ]
    }
   ],
   "source": [
    "#  陣列連接:下方連接、右方連接\n",
    "a=np.array([[1,2],[3,4]])\n",
    "b=np.array([[5,6],[7,8]])\n",
    "c=np.concatenate((a,b), axis=0)  # 下方連接\n",
    "d=np.concatenate((a,b), axis=1)  # 右方連接\n",
    "print(c)\n",
    "print(d)"
   ]
  },
  {
   "cell_type": "code",
   "execution_count": 77,
   "metadata": {},
   "outputs": [
    {
     "name": "stdout",
     "output_type": "stream",
     "text": [
      "[[1 4]\n",
      " [3 6]]\n"
     ]
    }
   ],
   "source": [
    "#  陣列廣播broadcasting特性: 不同size的矩陣相加時，會以最大的size為主每一行相加\n",
    "a=np.array([[1,2],[3,4]])\n",
    "b=np.array([0,2])\n",
    "c=a+b\n",
    "print(c)  # →變成a的每一個row都加上0,2"
   ]
  },
  {
   "cell_type": "code",
   "execution_count": 105,
   "metadata": {},
   "outputs": [
    {
     "name": "stdout",
     "output_type": "stream",
     "text": [
      "[1 9 0]\n",
      "[10 90  0]\n",
      "[-0.01225318  0.27077755 -0.00829526  0.63835691  0.13906518]\n"
     ]
    }
   ],
   "source": [
    "#  其他功能: 隨機索引值、雜訊、添加雜訊\n",
    "a=np.array([0,10,20,30,40,50,60,70,80,90,100])\n",
    "index=np.random.randint(0,len(a),3)  #  從0-長度a中取3個出來當索引值\n",
    "print(index)\n",
    "print(a[index])\n",
    "\n",
    "noise=np.random.standard_normal(5)*0.3\n",
    "print(noise)\n"
   ]
  },
  {
   "cell_type": "code",
   "execution_count": 108,
   "metadata": {},
   "outputs": [
    {
     "name": "stdout",
     "output_type": "stream",
     "text": [
      "[1. 2. 5. 6. 8. 9.]\n",
      "[ 2.  3.  6.  7.  9. 10.]\n",
      "[ 1.  2.  6.  7.  9. 10.]\n"
     ]
    }
   ],
   "source": [
    "#  三種進位\n",
    "a=np.array([1.1, 2.2 , 5.5 , 6.6, 8.8 , 9.9])\n",
    "print(np.floor(a))\n",
    "print(np.ceil(a))\n",
    "print(np.round(a))"
   ]
  },
  {
   "cell_type": "code",
   "execution_count": 119,
   "metadata": {},
   "outputs": [
    {
     "name": "stdout",
     "output_type": "stream",
     "text": [
      "[[0 1 2 3 4]\n",
      " [5 6 7 8 9]]\n",
      "45\n",
      "[ 5  7  9 11 13]\n",
      "[10 35]\n",
      "[2.5 3.5 4.5 5.5 6.5]\n",
      "[4. 5. 6. 7. 8.]\n"
     ]
    }
   ],
   "source": [
    "#  陣列的統計\n",
    "a=np.arange(0,10).reshape(2,5)\n",
    "print(a)\n",
    "print( np.sum(a) )\n",
    "print( np.sum(a, axis=0) )  # 縱向相加\n",
    "print( np.sum(a, axis=1) )  # 橫向相加\n",
    "print( np.mean(a, axis=0) )  # mean 縱向平均\n",
    "print( np.average(a, axis=0, weights=[0.2,0.8]) )  # average可以加上參數weights 作加權平均\n",
    "\n",
    "# 還有np.max(), np.std(), np.var(), np.sort()"
   ]
  },
  {
   "cell_type": "code",
   "execution_count": 192,
   "metadata": {},
   "outputs": [
    {
     "data": {
      "text/plain": [
       "array([0, 3, 5, 7, 8])"
      ]
     },
     "execution_count": 192,
     "metadata": {},
     "output_type": "execute_result"
    }
   ],
   "source": [
    "a=np.array([8, 7, 7, 5, 3, 8, 0])\n",
    "print( np.bincount(a) )   #元素出現的次數，從0開始\n",
    "print( np.unique(a) )  #出現過的值，把重複的扣掉，像集合的概念"
   ]
  },
  {
   "cell_type": "code",
   "execution_count": 129,
   "metadata": {},
   "outputs": [
    {
     "name": "stdout",
     "output_type": "stream",
     "text": [
      "[[ 1  2  3  4  5]\n",
      " [ 6  7  8  9 10]]\n",
      "[[ 1  2]\n",
      " [ 3  4]\n",
      " [ 5  6]\n",
      " [ 7  8]\n",
      " [ 9 10]]\n",
      "[[ 1  2  3  4  5]\n",
      " [ 6  7  8  9 10]]\n"
     ]
    }
   ],
   "source": [
    "#  改變陣列大小\n",
    "a=np.arange(1,11,1)\n",
    "a.shape=2,5\n",
    "print(a)\n",
    "a.shape=5,-1  # -1代表自動計算，不用自己算\n",
    "print(a)\n",
    "b=a.reshape(2,-1)  # 要指派新陣列得用reshape\n",
    "print(b)"
   ]
  },
  {
   "cell_type": "code",
   "execution_count": 182,
   "metadata": {},
   "outputs": [
    {
     "name": "stdout",
     "output_type": "stream",
     "text": [
      "[27.04162155 42.78104485 31.90965998 44.4344487   0.49588891 31.07998027\n",
      " 22.58059991 10.35830311 29.83897453 28.47354127]\n",
      "[0.04162155 0.78104485 0.90965998 0.4344487  0.49588891 0.07998027\n",
      " 0.58059991 0.35830311 0.83897453 0.47354127]\n"
     ]
    }
   ],
   "source": [
    "#  只取小數\n",
    "a=np.random.rand(10)*50\n",
    "print(a)\n",
    "a=np.array([i-int(i) for i in a])   #  利用序列生成式，把所有的i減掉整數i\n",
    "print(a)"
   ]
  },
  {
   "cell_type": "markdown",
   "metadata": {},
   "source": [
    "## 1. 陣列導向 101\n",
    "\n",
    "科學計算一個很核心的概念叫 \"array oriented\" 的寫法。Array 是 `numpy` 標準的資料結構, 和 list 很像, 但就差了那麼一點點。而這一點點讓我們在計算上是無比的方便。"
   ]
  },
  {
   "cell_type": "markdown",
   "metadata": {},
   "source": [
    "### 【暖身】 計算平均\n",
    "\n",
    "某位同學期中考各科成績如下, 請幫他計算成績。\n",
    "\n",
    "    grades = [77, 85, 56, 90, 66]\n",
    "    \n",
    "請計算平均。"
   ]
  },
  {
   "cell_type": "code",
   "execution_count": 215,
   "metadata": {},
   "outputs": [
    {
     "name": "stdout",
     "output_type": "stream",
     "text": [
      "74.80\n"
     ]
    }
   ],
   "source": [
    "grades = [77, 85, 56, 90, 66]\n",
    "total=0\n",
    "for i in grades:\n",
    "    total+=i\n",
    "average=total/len(grades)\n",
    "print(format(average, \".2f\"))"
   ]
  },
  {
   "cell_type": "markdown",
   "metadata": {},
   "source": [
    "### 【示範】陣列導向"
   ]
  },
  {
   "cell_type": "code",
   "execution_count": 216,
   "metadata": {},
   "outputs": [
    {
     "data": {
      "text/plain": [
       "74.8"
      ]
     },
     "execution_count": 216,
     "metadata": {},
     "output_type": "execute_result"
    }
   ],
   "source": [
    "grades = [77, 85, 56, 90, 66]\n",
    "arr=np.array(grades)\n",
    "arr.mean()"
   ]
  },
  {
   "cell_type": "markdown",
   "metadata": {},
   "source": [
    "最大值"
   ]
  },
  {
   "cell_type": "code",
   "execution_count": 218,
   "metadata": {},
   "outputs": [
    {
     "data": {
      "text/plain": [
       "90"
      ]
     },
     "execution_count": 218,
     "metadata": {},
     "output_type": "execute_result"
    }
   ],
   "source": [
    "arr.max()"
   ]
  },
  {
   "cell_type": "markdown",
   "metadata": {},
   "source": [
    "標準差"
   ]
  },
  {
   "cell_type": "code",
   "execution_count": 220,
   "metadata": {},
   "outputs": [
    {
     "data": {
      "text/plain": [
       "12.416118556135006"
      ]
     },
     "execution_count": 220,
     "metadata": {},
     "output_type": "execute_result"
    }
   ],
   "source": [
    "arr.std()"
   ]
  },
  {
   "cell_type": "markdown",
   "metadata": {},
   "source": [
    "### 【暖身】 換算匯率\n",
    "\n",
    "假設今天我想查查號稱 Pentax 三公主的 31mm, 43mm, 77mm 三隻 limited 鏡頭在美國賣多少。於是我去 B&H 查了他們的價格分別是:\n",
    "\n",
    "    prices = [1096.95, 596.95, 896.95]\n",
    "    \n",
    "我又查了 Google 匯率 1 美金為 31.71 元。請把三支鏡頭的價格換算為台幣。"
   ]
  },
  {
   "cell_type": "code",
   "execution_count": 222,
   "metadata": {},
   "outputs": [
    {
     "name": "stdout",
     "output_type": "stream",
     "text": [
      "[34784.2845, 18929.2845, 28442.2845]\n"
     ]
    }
   ],
   "source": [
    "prices = [1096.95, 596.95, 896.95]\n",
    "new=[i*31.71 for i in prices]\n",
    "print(new)"
   ]
  },
  {
   "cell_type": "markdown",
   "metadata": {},
   "source": [
    "先不管這實在有夠醜的數字, 我們要記得在科學計算中:\n",
    "\n",
    "### 儘可能不要使用迴圈\n",
    "\n",
    "這可能嗎?"
   ]
  },
  {
   "cell_type": "markdown",
   "metadata": {},
   "source": [
    "### 【示範】陣列換算匯率"
   ]
  },
  {
   "cell_type": "code",
   "execution_count": 224,
   "metadata": {},
   "outputs": [
    {
     "name": "stdout",
     "output_type": "stream",
     "text": [
      "[34784.2845 18929.2845 28442.2845]\n"
     ]
    }
   ],
   "source": [
    "prices = [1096.95, 596.95, 896.95]\n",
    "prices = np.array(prices)\n",
    "print(prices*31.71)"
   ]
  },
  {
   "cell_type": "markdown",
   "metadata": {},
   "source": [
    "哦哦, 傑克, 這太神奇了!"
   ]
  },
  {
   "cell_type": "markdown",
   "metadata": {},
   "source": [
    "## 2. 其實 array 還有很多功能\n",
    "\n",
    "### 【練習】 成績計算\n",
    "\n",
    "一位老師成績這樣算的:\n",
    "\n",
    "* 平時成績 20%\n",
    "* 期中考   35%\n",
    "* 期未考   45%\n",
    "\n",
    "有位同學\n",
    "\n",
    "* 平時成績 85 分\n",
    "* 期中 70 分\n",
    "* 期末 80 分\n",
    "\n",
    "這位同學的學期成績是多少?"
   ]
  },
  {
   "cell_type": "code",
   "execution_count": 228,
   "metadata": {},
   "outputs": [
    {
     "data": {
      "text/plain": [
       "array([17. , 24.5, 36. ])"
      ]
     },
     "execution_count": 228,
     "metadata": {},
     "output_type": "execute_result"
    }
   ],
   "source": [
    "grades = np.array([85,70,80])\n",
    "weights = np.array([0.2, 0.35, 0.45])\n",
    "new_grades=grades*weights\n",
    "new_grades"
   ]
  },
  {
   "cell_type": "markdown",
   "metadata": {},
   "source": [
    "這還不是我們要的最終成績啊!"
   ]
  },
  {
   "cell_type": "code",
   "execution_count": 229,
   "metadata": {},
   "outputs": [
    {
     "data": {
      "text/plain": [
       "77.5"
      ]
     },
     "execution_count": 229,
     "metadata": {},
     "output_type": "execute_result"
    }
   ],
   "source": [
    "new_grades.sum()"
   ]
  },
  {
   "cell_type": "markdown",
   "metadata": {},
   "source": [
    "### 【技巧】 一行完成成績計算"
   ]
  },
  {
   "cell_type": "code",
   "execution_count": 230,
   "metadata": {},
   "outputs": [
    {
     "data": {
      "text/plain": [
       "77.5"
      ]
     },
     "execution_count": 230,
     "metadata": {},
     "output_type": "execute_result"
    }
   ],
   "source": [
    "np.dot(grades,weights)  "
   ]
  },
  {
   "cell_type": "markdown",
   "metadata": {},
   "source": [
    "## 3. 重要的 array 大變身!\n",
    "\n",
    "我們在數據分析, 常常要改 array 的型式。"
   ]
  },
  {
   "cell_type": "markdown",
   "metadata": {},
   "source": [
    "### 【練習】 一個 50 個數字的 array\n",
    "\n",
    "先想辦法、用亂數做出 50 個數字的 array, 叫做 A 好了。"
   ]
  },
  {
   "cell_type": "code",
   "execution_count": 235,
   "metadata": {},
   "outputs": [
    {
     "data": {
      "text/plain": [
       "array([8.22534116e-01, 7.58278248e-01, 3.02773843e-01, 8.85553034e-01,\n",
       "       8.98599706e-01, 4.70707529e-01, 8.07088096e-01, 6.84927685e-02,\n",
       "       5.42057009e-01, 7.48017015e-01, 8.06795083e-01, 5.83388469e-01,\n",
       "       2.49171347e-01, 1.02019085e-01, 1.77976301e-01, 2.99299365e-01,\n",
       "       4.52192859e-01, 4.07189239e-01, 5.16048299e-01, 3.41250800e-01,\n",
       "       7.27525645e-01, 4.44426907e-01, 2.85792163e-02, 5.43054341e-01,\n",
       "       9.00536754e-01, 7.15555972e-01, 3.97322202e-01, 4.87581880e-01,\n",
       "       7.94908610e-01, 9.35032661e-01, 8.20139086e-01, 2.53258141e-01,\n",
       "       7.48086254e-01, 4.71555218e-01, 3.22654339e-01, 8.92368010e-01,\n",
       "       6.32460855e-02, 5.81409638e-01, 3.03601709e-01, 4.30420774e-01,\n",
       "       2.28412041e-02, 9.37307492e-01, 4.98728205e-01, 5.74405782e-01,\n",
       "       1.73660858e-01, 5.03757227e-01, 2.43297261e-01, 2.22059500e-04,\n",
       "       7.87463259e-01, 4.99303491e-01])"
      ]
     },
     "execution_count": 235,
     "metadata": {},
     "output_type": "execute_result"
    }
   ],
   "source": [
    "A = np.random.rand(50)\n",
    "A"
   ]
  },
  {
   "cell_type": "markdown",
   "metadata": {},
   "source": [
    "### 【技巧】 檢查 A 的 `shape`"
   ]
  },
  {
   "cell_type": "code",
   "execution_count": 239,
   "metadata": {},
   "outputs": [
    {
     "data": {
      "text/plain": [
       "(50,)"
      ]
     },
     "execution_count": 239,
     "metadata": {},
     "output_type": "execute_result"
    }
   ],
   "source": [
    "A.shape"
   ]
  },
  {
   "cell_type": "markdown",
   "metadata": {},
   "source": [
    "### 【技巧】 更改 A 的 shape"
   ]
  },
  {
   "cell_type": "code",
   "execution_count": 240,
   "metadata": {},
   "outputs": [
    {
     "data": {
      "text/plain": [
       "array([[8.22534116e-01, 7.58278248e-01, 3.02773843e-01, 8.85553034e-01,\n",
       "        8.98599706e-01, 4.70707529e-01, 8.07088096e-01, 6.84927685e-02,\n",
       "        5.42057009e-01, 7.48017015e-01],\n",
       "       [8.06795083e-01, 5.83388469e-01, 2.49171347e-01, 1.02019085e-01,\n",
       "        1.77976301e-01, 2.99299365e-01, 4.52192859e-01, 4.07189239e-01,\n",
       "        5.16048299e-01, 3.41250800e-01],\n",
       "       [7.27525645e-01, 4.44426907e-01, 2.85792163e-02, 5.43054341e-01,\n",
       "        9.00536754e-01, 7.15555972e-01, 3.97322202e-01, 4.87581880e-01,\n",
       "        7.94908610e-01, 9.35032661e-01],\n",
       "       [8.20139086e-01, 2.53258141e-01, 7.48086254e-01, 4.71555218e-01,\n",
       "        3.22654339e-01, 8.92368010e-01, 6.32460855e-02, 5.81409638e-01,\n",
       "        3.03601709e-01, 4.30420774e-01],\n",
       "       [2.28412041e-02, 9.37307492e-01, 4.98728205e-01, 5.74405782e-01,\n",
       "        1.73660858e-01, 5.03757227e-01, 2.43297261e-01, 2.22059500e-04,\n",
       "        7.87463259e-01, 4.99303491e-01]])"
      ]
     },
     "execution_count": 240,
     "metadata": {},
     "output_type": "execute_result"
    }
   ],
   "source": [
    "A.shape=5,10\n",
    "A"
   ]
  },
  {
   "cell_type": "markdown",
   "metadata": {},
   "source": [
    "### 【技巧】 也可以用 `reshape`\n",
    "\n",
    "但要注意, reshape 並沒有改原來的陣列。"
   ]
  },
  {
   "cell_type": "code",
   "execution_count": 243,
   "metadata": {},
   "outputs": [
    {
     "data": {
      "text/plain": [
       "array([[8.22534116e-01, 7.58278248e-01, 3.02773843e-01, 8.85553034e-01,\n",
       "        8.98599706e-01, 4.70707529e-01, 8.07088096e-01, 6.84927685e-02,\n",
       "        5.42057009e-01, 7.48017015e-01, 8.06795083e-01, 5.83388469e-01,\n",
       "        2.49171347e-01, 1.02019085e-01, 1.77976301e-01, 2.99299365e-01,\n",
       "        4.52192859e-01, 4.07189239e-01, 5.16048299e-01, 3.41250800e-01,\n",
       "        7.27525645e-01, 4.44426907e-01, 2.85792163e-02, 5.43054341e-01,\n",
       "        9.00536754e-01],\n",
       "       [7.15555972e-01, 3.97322202e-01, 4.87581880e-01, 7.94908610e-01,\n",
       "        9.35032661e-01, 8.20139086e-01, 2.53258141e-01, 7.48086254e-01,\n",
       "        4.71555218e-01, 3.22654339e-01, 8.92368010e-01, 6.32460855e-02,\n",
       "        5.81409638e-01, 3.03601709e-01, 4.30420774e-01, 2.28412041e-02,\n",
       "        9.37307492e-01, 4.98728205e-01, 5.74405782e-01, 1.73660858e-01,\n",
       "        5.03757227e-01, 2.43297261e-01, 2.22059500e-04, 7.87463259e-01,\n",
       "        4.99303491e-01]])"
      ]
     },
     "execution_count": 243,
     "metadata": {},
     "output_type": "execute_result"
    }
   ],
   "source": [
    "A.reshape(2,25)"
   ]
  },
  {
   "cell_type": "markdown",
   "metadata": {},
   "source": [
    "### 【技巧】 拉平 `ravel`\n",
    "\n",
    "雖然你想一想就知道可以用 `shape` 或 `reshape` 把多維陣列拉成一維。不過用 `ravel` 很潮。"
   ]
  },
  {
   "cell_type": "code",
   "execution_count": 244,
   "metadata": {},
   "outputs": [
    {
     "data": {
      "text/plain": [
       "array([8.22534116e-01, 7.58278248e-01, 3.02773843e-01, 8.85553034e-01,\n",
       "       8.98599706e-01, 4.70707529e-01, 8.07088096e-01, 6.84927685e-02,\n",
       "       5.42057009e-01, 7.48017015e-01, 8.06795083e-01, 5.83388469e-01,\n",
       "       2.49171347e-01, 1.02019085e-01, 1.77976301e-01, 2.99299365e-01,\n",
       "       4.52192859e-01, 4.07189239e-01, 5.16048299e-01, 3.41250800e-01,\n",
       "       7.27525645e-01, 4.44426907e-01, 2.85792163e-02, 5.43054341e-01,\n",
       "       9.00536754e-01, 7.15555972e-01, 3.97322202e-01, 4.87581880e-01,\n",
       "       7.94908610e-01, 9.35032661e-01, 8.20139086e-01, 2.53258141e-01,\n",
       "       7.48086254e-01, 4.71555218e-01, 3.22654339e-01, 8.92368010e-01,\n",
       "       6.32460855e-02, 5.81409638e-01, 3.03601709e-01, 4.30420774e-01,\n",
       "       2.28412041e-02, 9.37307492e-01, 4.98728205e-01, 5.74405782e-01,\n",
       "       1.73660858e-01, 5.03757227e-01, 2.43297261e-01, 2.22059500e-04,\n",
       "       7.87463259e-01, 4.99303491e-01])"
      ]
     },
     "execution_count": 244,
     "metadata": {},
     "output_type": "execute_result"
    }
   ],
   "source": [
    "A.ravel()    #拉平成1D陣列"
   ]
  },
  {
   "cell_type": "markdown",
   "metadata": {},
   "source": [
    "## 4. 快速 array 生成法"
   ]
  },
  {
   "cell_type": "markdown",
   "metadata": {},
   "source": [
    "### 【技巧】 都是 0 的 array"
   ]
  },
  {
   "cell_type": "code",
   "execution_count": 251,
   "metadata": {},
   "outputs": [
    {
     "data": {
      "text/plain": [
       "array([[0., 0., 0., 0.],\n",
       "       [0., 0., 0., 0.],\n",
       "       [0., 0., 0., 0.]])"
      ]
     },
     "execution_count": 251,
     "metadata": {},
     "output_type": "execute_result"
    }
   ],
   "source": [
    "np.zeros(10)    # 10筆0\n",
    "np.zeros((3,4))    # 3x4的0"
   ]
  },
  {
   "cell_type": "markdown",
   "metadata": {},
   "source": [
    "### 【技巧】 都是 1 的 array"
   ]
  },
  {
   "cell_type": "code",
   "execution_count": 246,
   "metadata": {},
   "outputs": [
    {
     "data": {
      "text/plain": [
       "array([1., 1., 1., 1., 1., 1., 1., 1., 1., 1.])"
      ]
     },
     "execution_count": 246,
     "metadata": {},
     "output_type": "execute_result"
    }
   ],
   "source": [
    "np.ones(10)"
   ]
  },
  {
   "cell_type": "markdown",
   "metadata": {},
   "source": [
    "### 【技巧】單位矩陣"
   ]
  },
  {
   "cell_type": "code",
   "execution_count": 252,
   "metadata": {},
   "outputs": [
    {
     "data": {
      "text/plain": [
       "array([[1., 0., 0., 0., 0., 0.],\n",
       "       [0., 1., 0., 0., 0., 0.],\n",
       "       [0., 0., 1., 0., 0., 0.],\n",
       "       [0., 0., 0., 1., 0., 0.],\n",
       "       [0., 0., 0., 0., 1., 0.],\n",
       "       [0., 0., 0., 0., 0., 1.]])"
      ]
     },
     "execution_count": 252,
     "metadata": {},
     "output_type": "execute_result"
    }
   ],
   "source": [
    "np.eye(6)  # 對角線都是1"
   ]
  },
  {
   "cell_type": "markdown",
   "metadata": {},
   "source": [
    "### 【技巧】給定範圍均勻生出 n 個點"
   ]
  },
  {
   "cell_type": "code",
   "execution_count": 254,
   "metadata": {},
   "outputs": [
    {
     "data": {
      "text/plain": [
       "array([ 0.        ,  0.1010101 ,  0.2020202 ,  0.3030303 ,  0.4040404 ,\n",
       "        0.50505051,  0.60606061,  0.70707071,  0.80808081,  0.90909091,\n",
       "        1.01010101,  1.11111111,  1.21212121,  1.31313131,  1.41414141,\n",
       "        1.51515152,  1.61616162,  1.71717172,  1.81818182,  1.91919192,\n",
       "        2.02020202,  2.12121212,  2.22222222,  2.32323232,  2.42424242,\n",
       "        2.52525253,  2.62626263,  2.72727273,  2.82828283,  2.92929293,\n",
       "        3.03030303,  3.13131313,  3.23232323,  3.33333333,  3.43434343,\n",
       "        3.53535354,  3.63636364,  3.73737374,  3.83838384,  3.93939394,\n",
       "        4.04040404,  4.14141414,  4.24242424,  4.34343434,  4.44444444,\n",
       "        4.54545455,  4.64646465,  4.74747475,  4.84848485,  4.94949495,\n",
       "        5.05050505,  5.15151515,  5.25252525,  5.35353535,  5.45454545,\n",
       "        5.55555556,  5.65656566,  5.75757576,  5.85858586,  5.95959596,\n",
       "        6.06060606,  6.16161616,  6.26262626,  6.36363636,  6.46464646,\n",
       "        6.56565657,  6.66666667,  6.76767677,  6.86868687,  6.96969697,\n",
       "        7.07070707,  7.17171717,  7.27272727,  7.37373737,  7.47474747,\n",
       "        7.57575758,  7.67676768,  7.77777778,  7.87878788,  7.97979798,\n",
       "        8.08080808,  8.18181818,  8.28282828,  8.38383838,  8.48484848,\n",
       "        8.58585859,  8.68686869,  8.78787879,  8.88888889,  8.98989899,\n",
       "        9.09090909,  9.19191919,  9.29292929,  9.39393939,  9.49494949,\n",
       "        9.5959596 ,  9.6969697 ,  9.7979798 ,  9.8989899 , 10.        ])"
      ]
     },
     "execution_count": 254,
     "metadata": {},
     "output_type": "execute_result"
    }
   ],
   "source": [
    "x=np.linspace(0,10,100)  # 0到10切100個點\n",
    "x"
   ]
  },
  {
   "cell_type": "markdown",
   "metadata": {},
   "source": [
    "### 【技巧】`range` 的 array 版\n",
    "\n",
    "就是 `arange`。"
   ]
  },
  {
   "cell_type": "code",
   "execution_count": 258,
   "metadata": {},
   "outputs": [
    {
     "data": {
      "text/plain": [
       "array([1. , 1.2, 1.4, 1.6, 1.8, 2. , 2.2, 2.4, 2.6, 2.8, 3. , 3.2, 3.4,\n",
       "       3.6, 3.8, 4. , 4.2, 4.4, 4.6, 4.8, 5. , 5.2, 5.4, 5.6, 5.8, 6. ,\n",
       "       6.2, 6.4, 6.6, 6.8, 7. , 7.2, 7.4, 7.6, 7.8, 8. , 8.2, 8.4, 8.6,\n",
       "       8.8, 9. , 9.2, 9.4, 9.6, 9.8])"
      ]
     },
     "execution_count": 258,
     "metadata": {},
     "output_type": "execute_result"
    }
   ],
   "source": [
    "np.arange(1,10,0.2) # 和range規則依樣 (start,end,steps)"
   ]
  },
  {
   "cell_type": "markdown",
   "metadata": {},
   "source": [
    "## 5. 超重要 `axis` 觀念\n",
    "\n",
    "初學 `numpy` 很多人有點弄不清楚 `axis` 概念。其實掌握矩陣, 或很像矩陣的陣列都是「先列後行」就可以!\n",
    "\n",
    "我們先弄個 array 來練習。"
   ]
  },
  {
   "cell_type": "code",
   "execution_count": 261,
   "metadata": {},
   "outputs": [
    {
     "data": {
      "text/plain": [
       "array([[0, 1, 2, 3, 4],\n",
       "       [5, 6, 7, 8, 9]])"
      ]
     },
     "execution_count": 261,
     "metadata": {},
     "output_type": "execute_result"
    }
   ],
   "source": [
    "A=np.arange(10).reshape(2,5)\n",
    "A"
   ]
  },
  {
   "cell_type": "markdown",
   "metadata": {},
   "source": [
    "### 【重點】 一列一列算下來是 `axis=0`"
   ]
  },
  {
   "cell_type": "markdown",
   "metadata": {},
   "source": [
    "![axis=0](images/axis0.png)"
   ]
  },
  {
   "cell_type": "code",
   "execution_count": 264,
   "metadata": {},
   "outputs": [
    {
     "name": "stdout",
     "output_type": "stream",
     "text": [
      "[ 5  7  9 11 13]\n",
      "[ 5  7  9 11 13]\n"
     ]
    }
   ],
   "source": [
    "# 縱向總和=列+列= 各欄總和\n",
    "print( np.sum(A,axis=0) )\n",
    "print( A.sum(axis=0) )"
   ]
  },
  {
   "cell_type": "markdown",
   "metadata": {},
   "source": [
    "### 【重點】 一行一行算過去是 `axis=1`\n",
    "\n",
    "![axis=1](images/axis1.png)"
   ]
  },
  {
   "cell_type": "code",
   "execution_count": 265,
   "metadata": {},
   "outputs": [
    {
     "name": "stdout",
     "output_type": "stream",
     "text": [
      "[10 35]\n",
      "[10 35]\n"
     ]
    }
   ],
   "source": [
    "# 橫向總和=欄+欄= 各列總和\n",
    "print( np.sum(A,axis=1) )\n",
    "print( A.sum(axis=1) )"
   ]
  },
  {
   "cell_type": "markdown",
   "metadata": {},
   "source": [
    "### 【提示】當然也有可能全部算"
   ]
  },
  {
   "cell_type": "code",
   "execution_count": 266,
   "metadata": {},
   "outputs": [
    {
     "data": {
      "text/plain": [
       "45"
      ]
     },
     "execution_count": 266,
     "metadata": {},
     "output_type": "execute_result"
    }
   ],
   "source": [
    "A.sum()"
   ]
  },
  {
   "cell_type": "markdown",
   "metadata": {},
   "source": [
    "## 6. array 過濾器\n",
    "\n",
    "篩出我們要的資料, 這樣的技巧非常重要!"
   ]
  },
  {
   "cell_type": "markdown",
   "metadata": {},
   "source": [
    "### 【例子】篩出大於 0 的數\n",
    "\n",
    "我們有個陣列, 想找出大於 0 的數。<br>\n",
    "L = np.array([3, -2, -1, 5, 7, -3])"
   ]
  },
  {
   "cell_type": "code",
   "execution_count": 267,
   "metadata": {},
   "outputs": [],
   "source": [
    "L = np.array([3, -2, -1, 5, 7, -3])"
   ]
  },
  {
   "cell_type": "markdown",
   "metadata": {},
   "source": [
    "我們可以很白痴的自己判斷...<br>\n",
    "c = np.array([True,False,False,True,True,False])"
   ]
  },
  {
   "cell_type": "code",
   "execution_count": 273,
   "metadata": {},
   "outputs": [
    {
     "data": {
      "text/plain": [
       "array([3, 5, 7])"
      ]
     },
     "execution_count": 273,
     "metadata": {},
     "output_type": "execute_result"
    }
   ],
   "source": [
    "c = np.array([True,False,False,True,True,False])\n",
    "L[c]"
   ]
  },
  {
   "cell_type": "markdown",
   "metadata": {},
   "source": [
    "事實上我們可以叫 `numpy` 做!"
   ]
  },
  {
   "cell_type": "code",
   "execution_count": 278,
   "metadata": {},
   "outputs": [
    {
     "data": {
      "text/plain": [
       "array([ True, False, False,  True,  True, False])"
      ]
     },
     "execution_count": 278,
     "metadata": {},
     "output_type": "execute_result"
    }
   ],
   "source": [
    "L>0"
   ]
  },
  {
   "cell_type": "markdown",
   "metadata": {},
   "source": [
    "我們還可以一次到位!"
   ]
  },
  {
   "cell_type": "code",
   "execution_count": 279,
   "metadata": {
    "scrolled": true
   },
   "outputs": [
    {
     "data": {
      "text/plain": [
       "array([3, 5, 7])"
      ]
     },
     "execution_count": 279,
     "metadata": {},
     "output_type": "execute_result"
    }
   ],
   "source": [
    "L[L>0]"
   ]
  },
  {
   "cell_type": "markdown",
   "metadata": {},
   "source": [
    "## 7. 次元切割刀\n",
    "\n",
    "`numpy` 中 array 的切割法和 list 很像。"
   ]
  },
  {
   "cell_type": "code",
   "execution_count": 280,
   "metadata": {},
   "outputs": [
    {
     "data": {
      "text/plain": [
       "array([0, 1, 2, 3, 4, 5, 6, 7, 8, 9])"
      ]
     },
     "execution_count": 280,
     "metadata": {},
     "output_type": "execute_result"
    }
   ],
   "source": [
    "x = np.arange(10)\n",
    "x"
   ]
  },
  {
   "cell_type": "code",
   "execution_count": 281,
   "metadata": {},
   "outputs": [
    {
     "data": {
      "text/plain": [
       "array([3, 4, 5, 6])"
      ]
     },
     "execution_count": 281,
     "metadata": {},
     "output_type": "execute_result"
    }
   ],
   "source": [
    "# 切出3-6\n",
    "x[3:7]"
   ]
  },
  {
   "cell_type": "markdown",
   "metadata": {},
   "source": [
    "### 【技巧】2維陣列切法\n",
    "\n",
    "記得先列後行!"
   ]
  },
  {
   "cell_type": "code",
   "execution_count": 287,
   "metadata": {},
   "outputs": [
    {
     "data": {
      "text/plain": [
       "array([[0, 1, 2, 3, 4],\n",
       "       [5, 6, 7, 8, 9]])"
      ]
     },
     "execution_count": 287,
     "metadata": {},
     "output_type": "execute_result"
    }
   ],
   "source": [
    "x=x.reshape(2,5)\n",
    "x"
   ]
  },
  {
   "cell_type": "markdown",
   "metadata": {},
   "source": [
    "要所有的row, 切出 1-3 column位置。"
   ]
  },
  {
   "cell_type": "code",
   "execution_count": 286,
   "metadata": {},
   "outputs": [
    {
     "data": {
      "text/plain": [
       "array([[1, 2, 3],\n",
       "       [6, 7, 8]])"
      ]
     },
     "execution_count": 286,
     "metadata": {},
     "output_type": "execute_result"
    }
   ],
   "source": [
    "x[:,1:4]"
   ]
  },
  {
   "cell_type": "markdown",
   "metadata": {},
   "source": [
    "要所有的column, 切出第 1 列row!"
   ]
  },
  {
   "cell_type": "code",
   "execution_count": 289,
   "metadata": {},
   "outputs": [
    {
     "data": {
      "text/plain": [
       "array([5, 6, 7, 8, 9])"
      ]
     },
     "execution_count": 289,
     "metadata": {},
     "output_type": "execute_result"
    }
   ],
   "source": [
    "x[1,:]"
   ]
  },
  {
   "cell_type": "markdown",
   "metadata": {},
   "source": [
    "## 8. `NumPy` 的 `zip` 和 `unzip`"
   ]
  },
  {
   "cell_type": "markdown",
   "metadata": {},
   "source": [
    "之前我們介紹 list 可以用 `zip` 和 `unzip` (其實還是 `zip`) 做到的資料格式變換, 在 array 中怎麼做呢?\n",
    "\n",
    "![zip and unzip](images/zip.png)"
   ]
  },
  {
   "cell_type": "markdown",
   "metadata": {},
   "source": [
    "### 【重點】array 的 `zip`\n",
    "\n",
    "![array zip](images/arrzip.png)"
   ]
  },
  {
   "cell_type": "code",
   "execution_count": 293,
   "metadata": {},
   "outputs": [],
   "source": [
    "x = np.array([1,2,3,4])\n",
    "y = np.array([5,6,7,8])"
   ]
  },
  {
   "cell_type": "code",
   "execution_count": 295,
   "metadata": {},
   "outputs": [
    {
     "data": {
      "text/plain": [
       "array([[1, 5],\n",
       "       [2, 6],\n",
       "       [3, 7],\n",
       "       [4, 8]])"
      ]
     },
     "execution_count": 295,
     "metadata": {},
     "output_type": "execute_result"
    }
   ],
   "source": [
    "#  當成column相加\n",
    "X=np.c_[x,y]   #只能用中括號\n",
    "X"
   ]
  },
  {
   "cell_type": "code",
   "execution_count": 296,
   "metadata": {},
   "outputs": [
    {
     "data": {
      "text/plain": [
       "array([1, 2, 3, 4, 5, 6, 7, 8])"
      ]
     },
     "execution_count": 296,
     "metadata": {},
     "output_type": "execute_result"
    }
   ],
   "source": [
    "#  當成row相加\n",
    "Y=np.r_[x,y]\n",
    "Y"
   ]
  },
  {
   "cell_type": "code",
   "execution_count": 300,
   "metadata": {},
   "outputs": [
    {
     "data": {
      "text/plain": [
       "array([1, 2, 3, 4, 5, 6, 7, 8])"
      ]
     },
     "execution_count": 300,
     "metadata": {},
     "output_type": "execute_result"
    }
   ],
   "source": [
    "np.concatenate((x,y),axis=0)"
   ]
  },
  {
   "cell_type": "markdown",
   "metadata": {},
   "source": [
    "### 【重點】array 的 `unzip`\n",
    "\n",
    "這裡其實只需要用到 array 的切割法...\n",
    "\n",
    "![array zip](images/arrunzip.png)"
   ]
  },
  {
   "cell_type": "code",
   "execution_count": 303,
   "metadata": {},
   "outputs": [
    {
     "data": {
      "text/plain": [
       "array([1, 5])"
      ]
     },
     "execution_count": 303,
     "metadata": {},
     "output_type": "execute_result"
    }
   ],
   "source": [
    "X[0,:]"
   ]
  }
 ],
 "metadata": {
  "kernelspec": {
   "display_name": "Python 3 (ipykernel)",
   "language": "python",
   "name": "python3"
  },
  "language_info": {
   "codemirror_mode": {
    "name": "ipython",
    "version": 3
   },
   "file_extension": ".py",
   "mimetype": "text/x-python",
   "name": "python",
   "nbconvert_exporter": "python",
   "pygments_lexer": "ipython3",
   "version": "3.10.9"
  }
 },
 "nbformat": 4,
 "nbformat_minor": 2
}
